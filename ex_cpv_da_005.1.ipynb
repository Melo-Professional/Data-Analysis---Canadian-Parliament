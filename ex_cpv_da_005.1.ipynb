{
  "cells": [
    {
      "cell_type": "code",
      "execution_count": null,
      "id": "f8a65e94",
      "metadata": {
        "id": "f8a65e94"
      },
      "outputs": [],
      "source": [
        "import pandas as pd"
      ]
    },
    {
      "cell_type": "code",
      "execution_count": null,
      "id": "87f1ccb0",
      "metadata": {
        "id": "87f1ccb0"
      },
      "outputs": [],
      "source": [
        "dfs = pd.read_html('https://www.ourcommons.ca/Members/en/votes/43/2/17',header=0)"
      ]
    },
    {
      "cell_type": "code",
      "execution_count": null,
      "id": "6ca1bbbd",
      "metadata": {
        "id": "6ca1bbbd"
      },
      "outputs": [],
      "source": [
        "df = dfs[0]"
      ]
    },
    {
      "cell_type": "code",
      "execution_count": null,
      "id": "485ea2a6",
      "metadata": {
        "id": "485ea2a6",
        "outputId": "f09d33ee-bf53-4224-ea62-b631aa14e0c0"
      },
      "outputs": [
        {
          "data": {
            "text/html": [
              "<div>\n",
              "<style scoped>\n",
              "    .dataframe tbody tr th:only-of-type {\n",
              "        vertical-align: middle;\n",
              "    }\n",
              "\n",
              "    .dataframe tbody tr th {\n",
              "        vertical-align: top;\n",
              "    }\n",
              "\n",
              "    .dataframe thead th {\n",
              "        text-align: right;\n",
              "    }\n",
              "</style>\n",
              "<table border=\"1\" class=\"dataframe\">\n",
              "  <thead>\n",
              "    <tr style=\"text-align: right;\">\n",
              "      <th></th>\n",
              "      <th>Member of Parliament</th>\n",
              "      <th>Political Affiliation</th>\n",
              "      <th>Member Voted</th>\n",
              "      <th>Paired Two members from opposite sides of the House can agree to neutralize their votes by abstaining from voting on a given day, allowing them to be absent from the House.</th>\n",
              "    </tr>\n",
              "  </thead>\n",
              "  <tbody>\n",
              "    <tr>\n",
              "      <th>0</th>\n",
              "      <td>Mr. Ziad Aboultaif(Edmonton Manning)</td>\n",
              "      <td>Conservative</td>\n",
              "      <td>Nay</td>\n",
              "      <td>NaN</td>\n",
              "    </tr>\n",
              "    <tr>\n",
              "      <th>1</th>\n",
              "      <td>Mr. Scott Aitchison(Parry Sound—Muskoka)</td>\n",
              "      <td>Conservative</td>\n",
              "      <td>Nay</td>\n",
              "      <td>NaN</td>\n",
              "    </tr>\n",
              "    <tr>\n",
              "      <th>2</th>\n",
              "      <td>Mr. Dan Albas(Central Okanagan—Similkameen—Nic...</td>\n",
              "      <td>Conservative</td>\n",
              "      <td>Nay</td>\n",
              "      <td>NaN</td>\n",
              "    </tr>\n",
              "    <tr>\n",
              "      <th>3</th>\n",
              "      <td>Mr. Omar Alghabra(Mississauga Centre)</td>\n",
              "      <td>Liberal</td>\n",
              "      <td>Nay</td>\n",
              "      <td>NaN</td>\n",
              "    </tr>\n",
              "    <tr>\n",
              "      <th>4</th>\n",
              "      <td>Ms. Leona Alleslev(Aurora—Oak Ridges—Richmond ...</td>\n",
              "      <td>Conservative</td>\n",
              "      <td>Nay</td>\n",
              "      <td>NaN</td>\n",
              "    </tr>\n",
              "    <tr>\n",
              "      <th>...</th>\n",
              "      <td>...</td>\n",
              "      <td>...</td>\n",
              "      <td>...</td>\n",
              "      <td>...</td>\n",
              "    </tr>\n",
              "    <tr>\n",
              "      <th>314</th>\n",
              "      <td>Mr. David Yurdiga(Fort McMurray—Cold Lake)</td>\n",
              "      <td>Conservative</td>\n",
              "      <td>Nay</td>\n",
              "      <td>NaN</td>\n",
              "    </tr>\n",
              "    <tr>\n",
              "      <th>315</th>\n",
              "      <td>Mrs. Salma Zahid(Scarborough Centre)</td>\n",
              "      <td>Liberal</td>\n",
              "      <td>Nay</td>\n",
              "      <td>NaN</td>\n",
              "    </tr>\n",
              "    <tr>\n",
              "      <th>316</th>\n",
              "      <td>Ms. Lenore Zann(Cumberland—Colchester)</td>\n",
              "      <td>Liberal</td>\n",
              "      <td>Nay</td>\n",
              "      <td>NaN</td>\n",
              "    </tr>\n",
              "    <tr>\n",
              "      <th>317</th>\n",
              "      <td>Mr. Bob Zimmer(Prince George—Peace River—North...</td>\n",
              "      <td>Conservative</td>\n",
              "      <td>Nay</td>\n",
              "      <td>NaN</td>\n",
              "    </tr>\n",
              "    <tr>\n",
              "      <th>318</th>\n",
              "      <td>Mr. Sameer Zuberi(Pierrefonds—Dollard)</td>\n",
              "      <td>Liberal</td>\n",
              "      <td>Nay</td>\n",
              "      <td>NaN</td>\n",
              "    </tr>\n",
              "  </tbody>\n",
              "</table>\n",
              "<p>319 rows × 4 columns</p>\n",
              "</div>"
            ],
            "text/plain": [
              "                                  Member of Parliament Political Affiliation  \\\n",
              "0                 Mr. Ziad Aboultaif(Edmonton Manning)          Conservative   \n",
              "1             Mr. Scott Aitchison(Parry Sound—Muskoka)          Conservative   \n",
              "2    Mr. Dan Albas(Central Okanagan—Similkameen—Nic...          Conservative   \n",
              "3                Mr. Omar Alghabra(Mississauga Centre)               Liberal   \n",
              "4    Ms. Leona Alleslev(Aurora—Oak Ridges—Richmond ...          Conservative   \n",
              "..                                                 ...                   ...   \n",
              "314         Mr. David Yurdiga(Fort McMurray—Cold Lake)          Conservative   \n",
              "315               Mrs. Salma Zahid(Scarborough Centre)               Liberal   \n",
              "316             Ms. Lenore Zann(Cumberland—Colchester)               Liberal   \n",
              "317  Mr. Bob Zimmer(Prince George—Peace River—North...          Conservative   \n",
              "318             Mr. Sameer Zuberi(Pierrefonds—Dollard)               Liberal   \n",
              "\n",
              "    Member Voted  \\\n",
              "0            Nay   \n",
              "1            Nay   \n",
              "2            Nay   \n",
              "3            Nay   \n",
              "4            Nay   \n",
              "..           ...   \n",
              "314          Nay   \n",
              "315          Nay   \n",
              "316          Nay   \n",
              "317          Nay   \n",
              "318          Nay   \n",
              "\n",
              "     Paired Two members from opposite sides of the House can agree to neutralize their votes by abstaining from voting on a given day, allowing them to be absent from the House.  \n",
              "0                                                  NaN                                                                                                                             \n",
              "1                                                  NaN                                                                                                                             \n",
              "2                                                  NaN                                                                                                                             \n",
              "3                                                  NaN                                                                                                                             \n",
              "4                                                  NaN                                                                                                                             \n",
              "..                                                 ...                                                                                                                             \n",
              "314                                                NaN                                                                                                                             \n",
              "315                                                NaN                                                                                                                             \n",
              "316                                                NaN                                                                                                                             \n",
              "317                                                NaN                                                                                                                             \n",
              "318                                                NaN                                                                                                                             \n",
              "\n",
              "[319 rows x 4 columns]"
            ]
          },
          "execution_count": 4,
          "metadata": {},
          "output_type": "execute_result"
        }
      ],
      "source": [
        "df"
      ]
    },
    {
      "cell_type": "code",
      "execution_count": null,
      "id": "f062a593",
      "metadata": {
        "id": "f062a593",
        "outputId": "0e8def80-349c-48cb-facd-f1047dd241a5"
      },
      "outputs": [
        {
          "data": {
            "text/plain": [
              "(319, 4)"
            ]
          },
          "execution_count": 5,
          "metadata": {},
          "output_type": "execute_result"
        }
      ],
      "source": [
        "df.shape"
      ]
    },
    {
      "cell_type": "code",
      "execution_count": null,
      "id": "eaadffdc",
      "metadata": {
        "id": "eaadffdc"
      },
      "outputs": [],
      "source": [
        "df.columns = ['Member','Party','Vote','Paired']"
      ]
    },
    {
      "cell_type": "code",
      "execution_count": null,
      "id": "670e475f",
      "metadata": {
        "id": "670e475f",
        "outputId": "8db9c4d4-ae6a-416a-dc4b-ff979940a603"
      },
      "outputs": [
        {
          "data": {
            "text/html": [
              "<div>\n",
              "<style scoped>\n",
              "    .dataframe tbody tr th:only-of-type {\n",
              "        vertical-align: middle;\n",
              "    }\n",
              "\n",
              "    .dataframe tbody tr th {\n",
              "        vertical-align: top;\n",
              "    }\n",
              "\n",
              "    .dataframe thead th {\n",
              "        text-align: right;\n",
              "    }\n",
              "</style>\n",
              "<table border=\"1\" class=\"dataframe\">\n",
              "  <thead>\n",
              "    <tr style=\"text-align: right;\">\n",
              "      <th></th>\n",
              "      <th>Member</th>\n",
              "      <th>Party</th>\n",
              "      <th>Vote</th>\n",
              "      <th>Paired</th>\n",
              "    </tr>\n",
              "  </thead>\n",
              "  <tbody>\n",
              "    <tr>\n",
              "      <th>0</th>\n",
              "      <td>Mr. Ziad Aboultaif(Edmonton Manning)</td>\n",
              "      <td>Conservative</td>\n",
              "      <td>Nay</td>\n",
              "      <td>NaN</td>\n",
              "    </tr>\n",
              "    <tr>\n",
              "      <th>1</th>\n",
              "      <td>Mr. Scott Aitchison(Parry Sound—Muskoka)</td>\n",
              "      <td>Conservative</td>\n",
              "      <td>Nay</td>\n",
              "      <td>NaN</td>\n",
              "    </tr>\n",
              "    <tr>\n",
              "      <th>2</th>\n",
              "      <td>Mr. Dan Albas(Central Okanagan—Similkameen—Nic...</td>\n",
              "      <td>Conservative</td>\n",
              "      <td>Nay</td>\n",
              "      <td>NaN</td>\n",
              "    </tr>\n",
              "    <tr>\n",
              "      <th>3</th>\n",
              "      <td>Mr. Omar Alghabra(Mississauga Centre)</td>\n",
              "      <td>Liberal</td>\n",
              "      <td>Nay</td>\n",
              "      <td>NaN</td>\n",
              "    </tr>\n",
              "    <tr>\n",
              "      <th>4</th>\n",
              "      <td>Ms. Leona Alleslev(Aurora—Oak Ridges—Richmond ...</td>\n",
              "      <td>Conservative</td>\n",
              "      <td>Nay</td>\n",
              "      <td>NaN</td>\n",
              "    </tr>\n",
              "  </tbody>\n",
              "</table>\n",
              "</div>"
            ],
            "text/plain": [
              "                                              Member         Party Vote  \\\n",
              "0               Mr. Ziad Aboultaif(Edmonton Manning)  Conservative  Nay   \n",
              "1           Mr. Scott Aitchison(Parry Sound—Muskoka)  Conservative  Nay   \n",
              "2  Mr. Dan Albas(Central Okanagan—Similkameen—Nic...  Conservative  Nay   \n",
              "3              Mr. Omar Alghabra(Mississauga Centre)       Liberal  Nay   \n",
              "4  Ms. Leona Alleslev(Aurora—Oak Ridges—Richmond ...  Conservative  Nay   \n",
              "\n",
              "   Paired  \n",
              "0     NaN  \n",
              "1     NaN  \n",
              "2     NaN  \n",
              "3     NaN  \n",
              "4     NaN  "
            ]
          },
          "execution_count": 7,
          "metadata": {},
          "output_type": "execute_result"
        }
      ],
      "source": [
        "df.head()"
      ]
    },
    {
      "cell_type": "code",
      "execution_count": null,
      "id": "df1db9ae",
      "metadata": {
        "id": "df1db9ae",
        "outputId": "98aef4fd-ad4d-4cdf-db47-68af95508726"
      },
      "outputs": [
        {
          "data": {
            "text/html": [
              "<div>\n",
              "<style scoped>\n",
              "    .dataframe tbody tr th:only-of-type {\n",
              "        vertical-align: middle;\n",
              "    }\n",
              "\n",
              "    .dataframe tbody tr th {\n",
              "        vertical-align: top;\n",
              "    }\n",
              "\n",
              "    .dataframe thead th {\n",
              "        text-align: right;\n",
              "    }\n",
              "</style>\n",
              "<table border=\"1\" class=\"dataframe\">\n",
              "  <thead>\n",
              "    <tr style=\"text-align: right;\">\n",
              "      <th></th>\n",
              "      <th>Party</th>\n",
              "    </tr>\n",
              "  </thead>\n",
              "  <tbody>\n",
              "    <tr>\n",
              "      <th>Liberal</th>\n",
              "      <td>146</td>\n",
              "    </tr>\n",
              "    <tr>\n",
              "      <th>Conservative</th>\n",
              "      <td>115</td>\n",
              "    </tr>\n",
              "    <tr>\n",
              "      <th>Bloc Québécois</th>\n",
              "      <td>31</td>\n",
              "    </tr>\n",
              "    <tr>\n",
              "      <th>NDP</th>\n",
              "      <td>22</td>\n",
              "    </tr>\n",
              "    <tr>\n",
              "      <th>Green Party</th>\n",
              "      <td>3</td>\n",
              "    </tr>\n",
              "    <tr>\n",
              "      <th>Independent</th>\n",
              "      <td>2</td>\n",
              "    </tr>\n",
              "  </tbody>\n",
              "</table>\n",
              "</div>"
            ],
            "text/plain": [
              "                Party\n",
              "Liberal           146\n",
              "Conservative      115\n",
              "Bloc Québécois     31\n",
              "NDP                22\n",
              "Green Party         3\n",
              "Independent         2"
            ]
          },
          "execution_count": 9,
          "metadata": {},
          "output_type": "execute_result"
        }
      ],
      "source": [
        "df['Party'].value_counts().to_frame()"
      ]
    },
    {
      "cell_type": "code",
      "execution_count": null,
      "id": "3f55be16",
      "metadata": {
        "id": "3f55be16",
        "outputId": "c93ccf90-1288-49cf-ad7e-f87e363ded4d"
      },
      "outputs": [
        {
          "data": {
            "text/html": [
              "<div>\n",
              "<style scoped>\n",
              "    .dataframe tbody tr th:only-of-type {\n",
              "        vertical-align: middle;\n",
              "    }\n",
              "\n",
              "    .dataframe tbody tr th {\n",
              "        vertical-align: top;\n",
              "    }\n",
              "\n",
              "    .dataframe thead th {\n",
              "        text-align: right;\n",
              "    }\n",
              "</style>\n",
              "<table border=\"1\" class=\"dataframe\">\n",
              "  <thead>\n",
              "    <tr style=\"text-align: right;\">\n",
              "      <th></th>\n",
              "      <th>Vote</th>\n",
              "    </tr>\n",
              "  </thead>\n",
              "  <tbody>\n",
              "    <tr>\n",
              "      <th>Nay</th>\n",
              "      <td>263</td>\n",
              "    </tr>\n",
              "    <tr>\n",
              "      <th>Yea</th>\n",
              "      <td>56</td>\n",
              "    </tr>\n",
              "  </tbody>\n",
              "</table>\n",
              "</div>"
            ],
            "text/plain": [
              "     Vote\n",
              "Nay   263\n",
              "Yea    56"
            ]
          },
          "execution_count": 10,
          "metadata": {},
          "output_type": "execute_result"
        }
      ],
      "source": [
        "df['Vote'].value_counts().to_frame()"
      ]
    }
  ],
  "metadata": {
    "kernelspec": {
      "display_name": "Python 3 (ipykernel)",
      "language": "python",
      "name": "python3"
    },
    "language_info": {
      "codemirror_mode": {
        "name": "ipython",
        "version": 3
      },
      "file_extension": ".py",
      "mimetype": "text/x-python",
      "name": "python",
      "nbconvert_exporter": "python",
      "pygments_lexer": "ipython3",
      "version": "3.10.3"
    },
    "colab": {
      "name": "005.1.ipynb",
      "provenance": []
    }
  },
  "nbformat": 4,
  "nbformat_minor": 5
}